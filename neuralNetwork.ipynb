{
 "cells": [
  {
   "cell_type": "code",
   "execution_count": 1,
   "metadata": {
    "collapsed": true
   },
   "outputs": [],
   "source": [
    "# 3개층으로 신경망으로 MNIST 데이터를 학습하는 코드\n",
    "\n",
    "import numpy as np\n",
    "# 시그모이드 함수 expit() 사용을 위해 scipy.special 불러오기\n",
    "import scipy.special\n",
    "# 행렬을 시각화하기 위한 라이브러리\n",
    "import matplotlib.pyplot\n",
    "# 시각화가 외부 윈도우가 아닌 현재의 노트북 내에서 보이도록 설정\n",
    "%matplotlib inline"
   ]
  },
  {
   "cell_type": "code",
   "execution_count": 2,
   "metadata": {
    "collapsed": true
   },
   "outputs": [],
   "source": [
    "# 신경망 클래스의 정의\n",
    "class neuralNetwork:\n",
    "    \n",
    "    # 신경망 초기화하기 - 입력, 은닉, 출력 노드의 수 설정\n",
    "    def __init__(self, inputnodes, hiddennodes, outputnodes, learningrate):\n",
    "        \n",
    "        # 입력, 은닉, 출력 계층의 노드 개수 설정\n",
    "        self.inodes = inputnodes\n",
    "        self.hnodes = hiddennodes\n",
    "        self.onodes = outputnodes\n",
    "        \n",
    "        # 가중치 행렬 wid와 who\n",
    "        # 배열 내 가중치는 w_i_i로 표기. 노드 i에서 다음 계층의 노드 j로 여녈됨을 의미\n",
    "        # w11 w21\n",
    "        # w12 w22 등\n",
    "        self.wih = np.random.normal(0.0, pow(self.hnodes, -0.5), (self.hnodes, self.inodes))\n",
    "        self.who = np.random.normal(0.0, pow(self.onodes, -0.5), (self.onodes, self.hnodes))\n",
    "        \n",
    "        # 학습률\n",
    "        self.lr = learningrate\n",
    "        \n",
    "        # 활성화 함수로는 시그모이드 함수를 이용\n",
    "        self.activation_function = lambda x: scipy.special.expit(x)\n",
    "        \n",
    "        pass\n",
    "    \n",
    "    # 신경망 학습시키기 - 학습 데이터들을 통해 학습하고 이에 따라 가중치를 업데이트\n",
    "    def train(self, inputs_list, targets_list):\n",
    "        \n",
    "        # 입력 리스트를 2차원의 행렬로 변환\n",
    "        inputs = np.array(inputs_list, ndmin=2).T\n",
    "        targets = np.array(targets_list, ndmin=2).T\n",
    "        \n",
    "        # 은닉 계층으로 들어오는 신호를 계산\n",
    "        hidden_inputs = np.dot(self.wih, inputs)\n",
    "        # 은닉 계층에서 나가는 신호를 계산\n",
    "        hidden_outputs = self.activation_function(hidden_inputs)\n",
    "\n",
    "        # 최종 출력 계층으로 들어오는 신호를 계산\n",
    "        final_inputs = np.dot(self.who, hidden_outputs)\n",
    "        # 최종 출력 계층에서 나가는 신호를 계산\n",
    "        final_outputs = self.activation_function(final_inputs)\n",
    "        \n",
    "        # 출력 계층의 오차는 (실제값 - 계산값)\n",
    "        output_errors = targets - final_outputs\n",
    "        # 은닉 계층의 오차는 가중치에 의해 나뉜 출력 계층의 오차들을 재조합해 계산\n",
    "        hidden_errors = np.dot(self.who.T, output_errors)\n",
    "        \n",
    "        # 은닉 계층과 출력 계층 간의 가중치 업데이트\n",
    "        self.who += self.lr * np.dot((output_errors * final_outputs * (1.0 - final_outputs)), np.transpose(hidden_outputs))\n",
    "        \n",
    "        # 입력 계층과 은닉 계층 간의 가중치 업데이트\n",
    "        self.wih += self.lr * np.dot((hidden_errors * hidden_outputs * (1.0 - hidden_outputs)), np.transpose(inputs))\n",
    "        \n",
    "        pass\n",
    "    \n",
    "    # 신경망에 질의하기 - 입력을 받아 연산한 후 출력 노드에서 답을 전달\n",
    "    def query(self, inputs_list):\n",
    "        \n",
    "        # 입력 리스트를 2차원 행렬로 변환\n",
    "        inputs = np.array(inputs_list, ndmin=2).T\n",
    "        \n",
    "        # 은닉 계층으로 들어오는 신호를 계산\n",
    "        hidden_inputs = np.dot(self.wih, inputs)\n",
    "        # 은닉 계층에서 나가는 신호를 계산\n",
    "        hidden_outputs = self.activation_function(hidden_inputs)\n",
    "        # 최종 출력 계층으로 들어오는 신호를 계산\n",
    "        final_inputs = np.dot(self.who, hidden_outputs)\n",
    "        # 최종 출력 계층에서 나가는 신호를 계산\n",
    "        final_outputs = self.activation_function(final_inputs)\n",
    "        \n",
    "        return final_outputs\n",
    "    "
   ]
  },
  {
   "cell_type": "code",
   "execution_count": 3,
   "metadata": {
    "collapsed": true
   },
   "outputs": [],
   "source": [
    "# 입력, 은닉, 출력 노드의 수\n",
    "input_nodes = 784\n",
    "hidden_nodes = 100\n",
    "output_nodes = 10\n",
    "\n",
    "# 학습률은 0.3으로 정의\n",
    "learning_rate = 0.3\n",
    "\n",
    "# 신경망의 인스턴스를 생성\n",
    "n = neuralNetwork(input_nodes, hidden_nodes, output_nodes, learning_rate)"
   ]
  },
  {
   "cell_type": "code",
   "execution_count": 4,
   "metadata": {
    "collapsed": true
   },
   "outputs": [],
   "source": [
    "# MNIST 학습 데이터인 csv 파일을 리스트로 불러오기\n",
    "training_data_file = open('./mnist_train_100.csv','r')\n",
    "training_data_list = training_data_file.readlines()\n",
    "training_data_file.close()"
   ]
  },
  {
   "cell_type": "code",
   "execution_count": 5,
   "metadata": {
    "collapsed": false
   },
   "outputs": [
    {
     "data": {
      "text/plain": [
       "<matplotlib.image.AxesImage at 0x118316630>"
      ]
     },
     "execution_count": 5,
     "metadata": {},
     "output_type": "execute_result"
    },
    {
     "data": {
      "image/png": "[encoded data removed]",
      "text/plain": [
       "<matplotlib.figure.Figure at 0x114f040b8>"
      ]
     },
     "metadata": {},
     "output_type": "display_data"
    }
   ],
   "source": [
    "all_values = training_data_list[0].split(',')\n",
    "image_array = np.asfarray(all_values[1:]).reshape((28,28))\n",
    "matplotlib.pyplot.imshow(image_array, cmap='Greys', interpolation='None')"
   ]
  },
  {
   "cell_type": "code",
   "execution_count": 6,
   "metadata": {
    "collapsed": false
   },
   "outputs": [
    {
     "data": {
      "text/plain": [
       "<matplotlib.image.AxesImage at 0x1185eaf28>"
      ]
     },
     "execution_count": 6,
     "metadata": {},
     "output_type": "execute_result"
    },
    {
     "data": {
      "image/png": "[encoded data removed]",
      "text/plain": [
       "<matplotlib.figure.Figure at 0x1182dd6d8>"
      ]
     },
     "metadata": {},
     "output_type": "display_data"
    }
   ],
   "source": [
    "all_values = training_data_list[1].split(',')\n",
    "image_array = np.asfarray(all_values[1:]).reshape((28,28))\n",
    "matplotlib.pyplot.imshow(image_array, cmap='Greys', interpolation='None')"
   ]
  },
  {
   "cell_type": "code",
   "execution_count": 7,
   "metadata": {
    "collapsed": true
   },
   "outputs": [],
   "source": [
    "# 신경망 학습시키기\n",
    "\n",
    "# 주기(epoch)란 학습 데이터가 학습을 위해 사용되는 횟수를 의미\n",
    "epochs = 2\n",
    "\n",
    "for e in range(epochs): \n",
    "    # 학습 데이터 모음 내의 모든 레코드 탐색\n",
    "    for record in training_data_list:\n",
    "        # 레코드를 쉼표에 의해 분리\n",
    "        all_values = record.split(',')\n",
    "        # 입력 값의 범위와 값 조정\n",
    "        inputs = (np.asfarray(all_values[1:])/ 255.0 * 0.99) + 0.01\n",
    "        # 결과값 생성 (실제 값인 0.99 외에는 모두 0.01)\n",
    "        targets = np.zeros(output_nodes) + 0.01\n",
    "        # all_values[0]은 이 레코드에 대한 결과값\n",
    "        targets[int(all_values[0])] = 0.99\n",
    "        n.train(inputs, targets)\n",
    "        pass\n",
    "    pass"
   ]
  },
  {
   "cell_type": "code",
   "execution_count": 8,
   "metadata": {
    "collapsed": false
   },
   "outputs": [
    {
     "data": {
      "text/plain": [
       "array([ 0.01,  0.01,  0.01,  0.01,  0.01,  0.01,  0.01,  0.01,  0.01,  0.01])"
      ]
     },
     "execution_count": 8,
     "metadata": {},
     "output_type": "execute_result"
    }
   ],
   "source": [
    "onodes = 10\n",
    "targets = np.zeros(onodes) + 0.01\n",
    "targets"
   ]
  },
  {
   "cell_type": "code",
   "execution_count": 9,
   "metadata": {
    "collapsed": true
   },
   "outputs": [],
   "source": [
    "targets[int(all_values[0])] = 0.99"
   ]
  },
  {
   "cell_type": "code",
   "execution_count": 10,
   "metadata": {
    "collapsed": false
   },
   "outputs": [
    {
     "data": {
      "text/plain": [
       "array([ 0.01,  0.99,  0.01,  0.01,  0.01,  0.01,  0.01,  0.01,  0.01,  0.01])"
      ]
     },
     "execution_count": 10,
     "metadata": {},
     "output_type": "execute_result"
    }
   ],
   "source": [
    "targets"
   ]
  },
  {
   "cell_type": "code",
   "execution_count": 11,
   "metadata": {
    "collapsed": true
   },
   "outputs": [],
   "source": [
    "scaled_input = np.asfarray(all_values[1:])"
   ]
  },
  {
   "cell_type": "code",
   "execution_count": 12,
   "metadata": {
    "collapsed": false
   },
   "outputs": [
    {
     "data": {
      "text/plain": [
       "array([   0.,    0.,    0.,    0.,    0.,    0.,    0.,    0.,    0.,\n",
       "          0.,    0.,    0.,    0.,    0.,    0.,    0.,    0.,    0.,\n",
       "          0.,    0.,    0.,    0.,    0.,    0.,    0.,    0.,    0.,\n",
       "          0.,    0.,    0.,    0.,    0.,    0.,    0.,    0.,    0.,\n",
       "          0.,    0.,    0.,    0.,    0.,    0.,    0.,    0.,    0.,\n",
       "          0.,    0.,    0.,    0.,    0.,    0.,    0.,    0.,    0.,\n",
       "          0.,    0.,    0.,    0.,    0.,    0.,    0.,    0.,    0.,\n",
       "          0.,    0.,    0.,    0.,    0.,    0.,    0.,    0.,    0.,\n",
       "          0.,    0.,    0.,    0.,    0.,    0.,    0.,    0.,    0.,\n",
       "          0.,    0.,    0.,    0.,    0.,    0.,    0.,    0.,    0.,\n",
       "          0.,    0.,    0.,    0.,    0.,    0.,    0.,    0.,    0.,\n",
       "          0.,    0.,    0.,    0.,    0.,    0.,    0.,    0.,    0.,\n",
       "          0.,    0.,    0.,    0.,    0.,    0.,    0.,    0.,    0.,\n",
       "          0.,    0.,    0.,    0.,    0.,    0.,    0.,    0.,    0.,\n",
       "          0.,    0.,    0.,    0.,    0.,    0.,    0.,    0.,    0.,\n",
       "          0.,    0.,    0.,    0.,    0.,    0.,    0.,    0.,    0.,\n",
       "          0.,    0.,    0.,    0.,    0.,    0.,    0.,    0.,    0.,\n",
       "          0.,    0.,    0.,   85.,  255.,  103.,    1.,    0.,    0.,\n",
       "          0.,    0.,    0.,    0.,    0.,    0.,    0.,    0.,    0.,\n",
       "          0.,    0.,    0.,    0.,    0.,    0.,    0.,    0.,    0.,\n",
       "          0.,    0.,    0.,    0.,  205.,  253.,  253.,   30.,    0.,\n",
       "          0.,    0.,    0.,    0.,    0.,    0.,    0.,    0.,    0.,\n",
       "          0.,    0.,    0.,    0.,    0.,    0.,    0.,    0.,    0.,\n",
       "          0.,    0.,    0.,    0.,    0.,  205.,  253.,  253.,   30.,\n",
       "          0.,    0.,    0.,    0.,    0.,    0.,    0.,    0.,    0.,\n",
       "          0.,    0.,    0.,    0.,    0.,    0.,    0.,    0.,    0.,\n",
       "          0.,    0.,    0.,    0.,    0.,   44.,  233.,  253.,  244.,\n",
       "         27.,    0.,    0.,    0.,    0.,    0.,    0.,    0.,    0.,\n",
       "          0.,    0.,    0.,    0.,    0.,    0.,    0.,    0.,    0.,\n",
       "          0.,    0.,    0.,    0.,    0.,    0.,  135.,  253.,  253.,\n",
       "        100.,    0.,    0.,    0.,    0.,    0.,    0.,    0.,    0.,\n",
       "          0.,    0.,    0.,    0.,    0.,    0.,    0.,    0.,    0.,\n",
       "          0.,    0.,    0.,    0.,    0.,    0.,    0.,  153.,  253.,\n",
       "        240.,   76.,    0.,    0.,    0.,    0.,    0.,    0.,    0.,\n",
       "          0.,    0.,    0.,    0.,    0.,    0.,    0.,    0.,    0.,\n",
       "          0.,    0.,    0.,    0.,    0.,    0.,    0.,   12.,  208.,\n",
       "        253.,  166.,    0.,    0.,    0.,    0.,    0.,    0.,    0.,\n",
       "          0.,    0.,    0.,    0.,    0.,    0.,    0.,    0.,    0.,\n",
       "          0.,    0.,    0.,    0.,    0.,    0.,    0.,    0.,   69.,\n",
       "        253.,  253.,  142.,    0.,    0.,    0.,    0.,    0.,    0.,\n",
       "          0.,    0.,    0.,    0.,    0.,    0.,    0.,    0.,    0.,\n",
       "          0.,    0.,    0.,    0.,    0.,    0.,    0.,    0.,   14.,\n",
       "        110.,  253.,  235.,   33.,    0.,    0.,    0.,    0.,    0.,\n",
       "          0.,    0.,    0.,    0.,    0.,    0.,    0.,    0.,    0.,\n",
       "          0.,    0.,    0.,    0.,    0.,    0.,    0.,    0.,    0.,\n",
       "         63.,  223.,  235.,  130.,    0.,    0.,    0.,    0.,    0.,\n",
       "          0.,    0.,    0.,    0.,    0.,    0.,    0.,    0.,    0.,\n",
       "          0.,    0.,    0.,    0.,    0.,    0.,    0.,    0.,    0.,\n",
       "          0.,  186.,  253.,  235.,   37.,    0.,    0.,    0.,    0.,\n",
       "          0.,    0.,    0.,    0.,    0.,    0.,    0.,    0.,    0.,\n",
       "          0.,    0.,    0.,    0.,    0.,    0.,    0.,    0.,    0.,\n",
       "          0.,   17.,  145.,  253.,  231.,   35.,    0.,    0.,    0.,\n",
       "          0.,    0.,    0.,    0.,    0.,    0.,    0.,    0.,    0.,\n",
       "          0.,    0.,    0.,    0.,    0.,    0.,    0.,    0.,    0.,\n",
       "          0.,    0.,   69.,  220.,  231.,  123.,    0.,    0.,    0.,\n",
       "          0.,    0.,    0.,    0.,    0.,    0.,    0.,    0.,    0.,\n",
       "          0.,    0.,    0.,    0.,    0.,    0.,    0.,    0.,    0.,\n",
       "          0.,    0.,   18.,  205.,  253.,  176.,   27.,    0.,    0.,\n",
       "          0.,    0.,    0.,    0.,    0.,    0.,    0.,    0.,    0.,\n",
       "          0.,    0.,    0.,    0.,    0.,    0.,    0.,    0.,    0.,\n",
       "          0.,    0.,   17.,  125.,  253.,  185.,   39.,    0.,    0.,\n",
       "          0.,    0.,    0.,    0.,    0.,    0.,    0.,    0.,    0.,\n",
       "          0.,    0.,    0.,    0.,    0.,    0.,    0.,    0.,    0.,\n",
       "          0.,    0.,    0.,   71.,  214.,  231.,   41.,    0.,    0.,\n",
       "          0.,    0.,    0.,    0.,    0.,    0.,    0.,    0.,    0.,\n",
       "          0.,    0.,    0.,    0.,    0.,    0.,    0.,    0.,    0.,\n",
       "          0.,    0.,    0.,    0.,  167.,  253.,  225.,   33.,    0.,\n",
       "          0.,    0.,    0.,    0.,    0.,    0.,    0.,    0.,    0.,\n",
       "          0.,    0.,    0.,    0.,    0.,    0.,    0.,    0.,    0.,\n",
       "          0.,    0.,    0.,    0.,   72.,  205.,  207.,   14.,    0.,\n",
       "          0.,    0.,    0.,    0.,    0.,    0.,    0.,    0.,    0.,\n",
       "          0.,    0.,    0.,    0.,    0.,    0.,    0.,    0.,    0.,\n",
       "          0.,    0.,    0.,    0.,   30.,  249.,  233.,   49.,    0.,\n",
       "          0.,    0.,    0.,    0.,    0.,    0.,    0.,    0.,    0.,\n",
       "          0.,    0.,    0.,    0.,    0.,    0.,    0.,    0.,    0.,\n",
       "          0.,    0.,    0.,    0.,    0.,   32.,  253.,   89.,    0.,\n",
       "          0.,    0.,    0.,    0.,    0.,    0.,    0.,    0.,    0.,\n",
       "          0.,    0.,    0.,    0.,    0.,    0.,    0.,    0.,    0.,\n",
       "          0.,    0.,    0.,    0.,    0.,    0.,    0.,    0.,    0.,\n",
       "          0.,    0.,    0.,    0.,    0.,    0.,    0.,    0.,    0.,\n",
       "          0.,    0.,    0.,    0.,    0.,    0.,    0.,    0.,    0.,\n",
       "          0.,    0.,    0.,    0.,    0.,    0.,    0.,    0.,    0.,\n",
       "          0.,    0.,    0.,    0.,    0.,    0.,    0.,    0.,    0.,\n",
       "          0.,    0.,    0.,    0.,    0.,    0.,    0.,    0.,    0.,\n",
       "          0.,    0.,    0.,    0.,    0.,    0.,    0.,    0.,    0.,\n",
       "          0.,    0.,    0.,    0.,    0.,    0.,    0.,    0.,    0.,\n",
       "          0.,    0.,    0.,    0.,    0.,    0.,    0.,    0.,    0.,    0.])"
      ]
     },
     "execution_count": 12,
     "metadata": {},
     "output_type": "execute_result"
    }
   ],
   "source": [
    "scaled_input"
   ]
  },
  {
   "cell_type": "code",
   "execution_count": 13,
   "metadata": {
    "collapsed": true
   },
   "outputs": [],
   "source": [
    "scaled_input = (np.asfarray(all_values[1:]) / 255.0 * 0.99) + 0.01"
   ]
  },
  {
   "cell_type": "code",
   "execution_count": 14,
   "metadata": {
    "collapsed": false
   },
   "outputs": [
    {
     "data": {
      "text/plain": [
       "array([ 0.01      ,  0.01      ,  0.01      ,  0.01      ,  0.01      ,\n",
       "        0.01      ,  0.01      ,  0.01      ,  0.01      ,  0.01      ,\n",
       "        0.01      ,  0.01      ,  0.01      ,  0.01      ,  0.01      ,\n",
       "        0.01      ,  0.01      ,  0.01      ,  0.01      ,  0.01      ,\n",
       "        0.01      ,  0.01      ,  0.01      ,  0.01      ,  0.01      ,\n",
       "        0.01      ,  0.01      ,  0.01      ,  0.01      ,  0.01      ,\n",
       "        0.01      ,  0.01      ,  0.01      ,  0.01      ,  0.01      ,\n",
       "        0.01      ,  0.01      ,  0.01      ,  0.01      ,  0.01      ,\n",
       "        0.01      ,  0.01      ,  0.01      ,  0.01      ,  0.01      ,\n",
       "        0.01      ,  0.01      ,  0.01      ,  0.01      ,  0.01      ,\n",
       "        0.01      ,  0.01      ,  0.01      ,  0.01      ,  0.01      ,\n",
       "        0.01      ,  0.01      ,  0.01      ,  0.01      ,  0.01      ,\n",
       "        0.01      ,  0.01      ,  0.01      ,  0.01      ,  0.01      ,\n",
       "        0.01      ,  0.01      ,  0.01      ,  0.01      ,  0.01      ,\n",
       "        0.01      ,  0.01      ,  0.01      ,  0.01      ,  0.01      ,\n",
       "        0.01      ,  0.01      ,  0.01      ,  0.01      ,  0.01      ,\n",
       "        0.01      ,  0.01      ,  0.01      ,  0.01      ,  0.01      ,\n",
       "        0.01      ,  0.01      ,  0.01      ,  0.01      ,  0.01      ,\n",
       "        0.01      ,  0.01      ,  0.01      ,  0.01      ,  0.01      ,\n",
       "        0.01      ,  0.01      ,  0.01      ,  0.01      ,  0.01      ,\n",
       "        0.01      ,  0.01      ,  0.01      ,  0.01      ,  0.01      ,\n",
       "        0.01      ,  0.01      ,  0.01      ,  0.01      ,  0.01      ,\n",
       "        0.01      ,  0.01      ,  0.01      ,  0.01      ,  0.01      ,\n",
       "        0.01      ,  0.01      ,  0.01      ,  0.01      ,  0.01      ,\n",
       "        0.01      ,  0.01      ,  0.01      ,  0.01      ,  0.01      ,\n",
       "        0.01      ,  0.01      ,  0.01      ,  0.01      ,  0.01      ,\n",
       "        0.01      ,  0.01      ,  0.01      ,  0.01      ,  0.01      ,\n",
       "        0.01      ,  0.01      ,  0.01      ,  0.01      ,  0.01      ,\n",
       "        0.01      ,  0.01      ,  0.01      ,  0.01      ,  0.01      ,\n",
       "        0.01      ,  0.01      ,  0.01      ,  0.01      ,  0.01      ,\n",
       "        0.01      ,  0.01      ,  0.01      ,  0.01      ,  0.01      ,\n",
       "        0.01      ,  0.34      ,  1.        ,  0.40988235,  0.01388235,\n",
       "        0.01      ,  0.01      ,  0.01      ,  0.01      ,  0.01      ,\n",
       "        0.01      ,  0.01      ,  0.01      ,  0.01      ,  0.01      ,\n",
       "        0.01      ,  0.01      ,  0.01      ,  0.01      ,  0.01      ,\n",
       "        0.01      ,  0.01      ,  0.01      ,  0.01      ,  0.01      ,\n",
       "        0.01      ,  0.01      ,  0.01      ,  0.01      ,  0.80588235,\n",
       "        0.99223529,  0.99223529,  0.12647059,  0.01      ,  0.01      ,\n",
       "        0.01      ,  0.01      ,  0.01      ,  0.01      ,  0.01      ,\n",
       "        0.01      ,  0.01      ,  0.01      ,  0.01      ,  0.01      ,\n",
       "        0.01      ,  0.01      ,  0.01      ,  0.01      ,  0.01      ,\n",
       "        0.01      ,  0.01      ,  0.01      ,  0.01      ,  0.01      ,\n",
       "        0.01      ,  0.01      ,  0.80588235,  0.99223529,  0.99223529,\n",
       "        0.12647059,  0.01      ,  0.01      ,  0.01      ,  0.01      ,\n",
       "        0.01      ,  0.01      ,  0.01      ,  0.01      ,  0.01      ,\n",
       "        0.01      ,  0.01      ,  0.01      ,  0.01      ,  0.01      ,\n",
       "        0.01      ,  0.01      ,  0.01      ,  0.01      ,  0.01      ,\n",
       "        0.01      ,  0.01      ,  0.01      ,  0.01      ,  0.18082353,\n",
       "        0.91458824,  0.99223529,  0.95729412,  0.11482353,  0.01      ,\n",
       "        0.01      ,  0.01      ,  0.01      ,  0.01      ,  0.01      ,\n",
       "        0.01      ,  0.01      ,  0.01      ,  0.01      ,  0.01      ,\n",
       "        0.01      ,  0.01      ,  0.01      ,  0.01      ,  0.01      ,\n",
       "        0.01      ,  0.01      ,  0.01      ,  0.01      ,  0.01      ,\n",
       "        0.01      ,  0.01      ,  0.53411765,  0.99223529,  0.99223529,\n",
       "        0.39823529,  0.01      ,  0.01      ,  0.01      ,  0.01      ,\n",
       "        0.01      ,  0.01      ,  0.01      ,  0.01      ,  0.01      ,\n",
       "        0.01      ,  0.01      ,  0.01      ,  0.01      ,  0.01      ,\n",
       "        0.01      ,  0.01      ,  0.01      ,  0.01      ,  0.01      ,\n",
       "        0.01      ,  0.01      ,  0.01      ,  0.01      ,  0.01      ,\n",
       "        0.604     ,  0.99223529,  0.94176471,  0.30505882,  0.01      ,\n",
       "        0.01      ,  0.01      ,  0.01      ,  0.01      ,  0.01      ,\n",
       "        0.01      ,  0.01      ,  0.01      ,  0.01      ,  0.01      ,\n",
       "        0.01      ,  0.01      ,  0.01      ,  0.01      ,  0.01      ,\n",
       "        0.01      ,  0.01      ,  0.01      ,  0.01      ,  0.01      ,\n",
       "        0.01      ,  0.01      ,  0.05658824,  0.81752941,  0.99223529,\n",
       "        0.65447059,  0.01      ,  0.01      ,  0.01      ,  0.01      ,\n",
       "        0.01      ,  0.01      ,  0.01      ,  0.01      ,  0.01      ,\n",
       "        0.01      ,  0.01      ,  0.01      ,  0.01      ,  0.01      ,\n",
       "        0.01      ,  0.01      ,  0.01      ,  0.01      ,  0.01      ,\n",
       "        0.01      ,  0.01      ,  0.01      ,  0.01      ,  0.01      ,\n",
       "        0.27788235,  0.99223529,  0.99223529,  0.56129412,  0.01      ,\n",
       "        0.01      ,  0.01      ,  0.01      ,  0.01      ,  0.01      ,\n",
       "        0.01      ,  0.01      ,  0.01      ,  0.01      ,  0.01      ,\n",
       "        0.01      ,  0.01      ,  0.01      ,  0.01      ,  0.01      ,\n",
       "        0.01      ,  0.01      ,  0.01      ,  0.01      ,  0.01      ,\n",
       "        0.01      ,  0.01      ,  0.06435294,  0.43705882,  0.99223529,\n",
       "        0.92235294,  0.13811765,  0.01      ,  0.01      ,  0.01      ,\n",
       "        0.01      ,  0.01      ,  0.01      ,  0.01      ,  0.01      ,\n",
       "        0.01      ,  0.01      ,  0.01      ,  0.01      ,  0.01      ,\n",
       "        0.01      ,  0.01      ,  0.01      ,  0.01      ,  0.01      ,\n",
       "        0.01      ,  0.01      ,  0.01      ,  0.01      ,  0.01      ,\n",
       "        0.25458824,  0.87576471,  0.92235294,  0.51470588,  0.01      ,\n",
       "        0.01      ,  0.01      ,  0.01      ,  0.01      ,  0.01      ,\n",
       "        0.01      ,  0.01      ,  0.01      ,  0.01      ,  0.01      ,\n",
       "        0.01      ,  0.01      ,  0.01      ,  0.01      ,  0.01      ,\n",
       "        0.01      ,  0.01      ,  0.01      ,  0.01      ,  0.01      ,\n",
       "        0.01      ,  0.01      ,  0.01      ,  0.73211765,  0.99223529,\n",
       "        0.92235294,  0.15364706,  0.01      ,  0.01      ,  0.01      ,\n",
       "        0.01      ,  0.01      ,  0.01      ,  0.01      ,  0.01      ,\n",
       "        0.01      ,  0.01      ,  0.01      ,  0.01      ,  0.01      ,\n",
       "        0.01      ,  0.01      ,  0.01      ,  0.01      ,  0.01      ,\n",
       "        0.01      ,  0.01      ,  0.01      ,  0.01      ,  0.01      ,\n",
       "        0.076     ,  0.57294118,  0.99223529,  0.90682353,  0.14588235,\n",
       "        0.01      ,  0.01      ,  0.01      ,  0.01      ,  0.01      ,\n",
       "        0.01      ,  0.01      ,  0.01      ,  0.01      ,  0.01      ,\n",
       "        0.01      ,  0.01      ,  0.01      ,  0.01      ,  0.01      ,\n",
       "        0.01      ,  0.01      ,  0.01      ,  0.01      ,  0.01      ,\n",
       "        0.01      ,  0.01      ,  0.01      ,  0.27788235,  0.86411765,\n",
       "        0.90682353,  0.48752941,  0.01      ,  0.01      ,  0.01      ,\n",
       "        0.01      ,  0.01      ,  0.01      ,  0.01      ,  0.01      ,\n",
       "        0.01      ,  0.01      ,  0.01      ,  0.01      ,  0.01      ,\n",
       "        0.01      ,  0.01      ,  0.01      ,  0.01      ,  0.01      ,\n",
       "        0.01      ,  0.01      ,  0.01      ,  0.01      ,  0.01      ,\n",
       "        0.07988235,  0.80588235,  0.99223529,  0.69329412,  0.11482353,\n",
       "        0.01      ,  0.01      ,  0.01      ,  0.01      ,  0.01      ,\n",
       "        0.01      ,  0.01      ,  0.01      ,  0.01      ,  0.01      ,\n",
       "        0.01      ,  0.01      ,  0.01      ,  0.01      ,  0.01      ,\n",
       "        0.01      ,  0.01      ,  0.01      ,  0.01      ,  0.01      ,\n",
       "        0.01      ,  0.01      ,  0.076     ,  0.49529412,  0.99223529,\n",
       "        0.72823529,  0.16141176,  0.01      ,  0.01      ,  0.01      ,\n",
       "        0.01      ,  0.01      ,  0.01      ,  0.01      ,  0.01      ,\n",
       "        0.01      ,  0.01      ,  0.01      ,  0.01      ,  0.01      ,\n",
       "        0.01      ,  0.01      ,  0.01      ,  0.01      ,  0.01      ,\n",
       "        0.01      ,  0.01      ,  0.01      ,  0.01      ,  0.01      ,\n",
       "        0.28564706,  0.84082353,  0.90682353,  0.16917647,  0.01      ,\n",
       "        0.01      ,  0.01      ,  0.01      ,  0.01      ,  0.01      ,\n",
       "        0.01      ,  0.01      ,  0.01      ,  0.01      ,  0.01      ,\n",
       "        0.01      ,  0.01      ,  0.01      ,  0.01      ,  0.01      ,\n",
       "        0.01      ,  0.01      ,  0.01      ,  0.01      ,  0.01      ,\n",
       "        0.01      ,  0.01      ,  0.01      ,  0.65835294,  0.99223529,\n",
       "        0.88352941,  0.13811765,  0.01      ,  0.01      ,  0.01      ,\n",
       "        0.01      ,  0.01      ,  0.01      ,  0.01      ,  0.01      ,\n",
       "        0.01      ,  0.01      ,  0.01      ,  0.01      ,  0.01      ,\n",
       "        0.01      ,  0.01      ,  0.01      ,  0.01      ,  0.01      ,\n",
       "        0.01      ,  0.01      ,  0.01      ,  0.01      ,  0.01      ,\n",
       "        0.28952941,  0.80588235,  0.81364706,  0.06435294,  0.01      ,\n",
       "        0.01      ,  0.01      ,  0.01      ,  0.01      ,  0.01      ,\n",
       "        0.01      ,  0.01      ,  0.01      ,  0.01      ,  0.01      ,\n",
       "        0.01      ,  0.01      ,  0.01      ,  0.01      ,  0.01      ,\n",
       "        0.01      ,  0.01      ,  0.01      ,  0.01      ,  0.01      ,\n",
       "        0.01      ,  0.01      ,  0.12647059,  0.97670588,  0.91458824,\n",
       "        0.20023529,  0.01      ,  0.01      ,  0.01      ,  0.01      ,\n",
       "        0.01      ,  0.01      ,  0.01      ,  0.01      ,  0.01      ,\n",
       "        0.01      ,  0.01      ,  0.01      ,  0.01      ,  0.01      ,\n",
       "        0.01      ,  0.01      ,  0.01      ,  0.01      ,  0.01      ,\n",
       "        0.01      ,  0.01      ,  0.01      ,  0.01      ,  0.01      ,\n",
       "        0.13423529,  0.99223529,  0.35552941,  0.01      ,  0.01      ,\n",
       "        0.01      ,  0.01      ,  0.01      ,  0.01      ,  0.01      ,\n",
       "        0.01      ,  0.01      ,  0.01      ,  0.01      ,  0.01      ,\n",
       "        0.01      ,  0.01      ,  0.01      ,  0.01      ,  0.01      ,\n",
       "        0.01      ,  0.01      ,  0.01      ,  0.01      ,  0.01      ,\n",
       "        0.01      ,  0.01      ,  0.01      ,  0.01      ,  0.01      ,\n",
       "        0.01      ,  0.01      ,  0.01      ,  0.01      ,  0.01      ,\n",
       "        0.01      ,  0.01      ,  0.01      ,  0.01      ,  0.01      ,\n",
       "        0.01      ,  0.01      ,  0.01      ,  0.01      ,  0.01      ,\n",
       "        0.01      ,  0.01      ,  0.01      ,  0.01      ,  0.01      ,\n",
       "        0.01      ,  0.01      ,  0.01      ,  0.01      ,  0.01      ,\n",
       "        0.01      ,  0.01      ,  0.01      ,  0.01      ,  0.01      ,\n",
       "        0.01      ,  0.01      ,  0.01      ,  0.01      ,  0.01      ,\n",
       "        0.01      ,  0.01      ,  0.01      ,  0.01      ,  0.01      ,\n",
       "        0.01      ,  0.01      ,  0.01      ,  0.01      ,  0.01      ,\n",
       "        0.01      ,  0.01      ,  0.01      ,  0.01      ,  0.01      ,\n",
       "        0.01      ,  0.01      ,  0.01      ,  0.01      ,  0.01      ,\n",
       "        0.01      ,  0.01      ,  0.01      ,  0.01      ,  0.01      ,\n",
       "        0.01      ,  0.01      ,  0.01      ,  0.01      ,  0.01      ,\n",
       "        0.01      ,  0.01      ,  0.01      ,  0.01      ,  0.01      ,\n",
       "        0.01      ,  0.01      ,  0.01      ,  0.01      ])"
      ]
     },
     "execution_count": 14,
     "metadata": {},
     "output_type": "execute_result"
    }
   ],
   "source": [
    "scaled_input"
   ]
  },
  {
   "cell_type": "code",
   "execution_count": 15,
   "metadata": {
    "collapsed": true
   },
   "outputs": [],
   "source": [
    "# 테스트 데이터 불러오기\n",
    "test_data_file = open('./mnist_test_10.csv','r')\n",
    "test_data_list = test_data_file.readlines()\n",
    "test_data_file.close()"
   ]
  },
  {
   "cell_type": "code",
   "execution_count": 16,
   "metadata": {
    "collapsed": false
   },
   "outputs": [
    {
     "name": "stdout",
     "output_type": "stream",
     "text": [
      "['7', '0', '0', '0', '0', '0', '0', '0', '0', '0', '0', '0', '0', '0', '0', '0', '0', '0', '0', '0', '0', '0', '0', '0', '0', '0', '0', '0', '0', '0', '0', '0', '0', '0', '0', '0', '0', '0', '0', '0', '0', '0', '0', '0', '0', '0', '0', '0', '0', '0', '0', '0', '0', '0', '0', '0', '0', '0', '0', '0', '0', '0', '0', '0', '0', '0', '0', '0', '0', '0', '0', '0', '0', '0', '0', '0', '0', '0', '0', '0', '0', '0', '0', '0', '0', '0', '0', '0', '0', '0', '0', '0', '0', '0', '0', '0', '0', '0', '0', '0', '0', '0', '0', '0', '0', '0', '0', '0', '0', '0', '0', '0', '0', '0', '0', '0', '0', '0', '0', '0', '0', '0', '0', '0', '0', '0', '0', '0', '0', '0', '0', '0', '0', '0', '0', '0', '0', '0', '0', '0', '0', '0', '0', '0', '0', '0', '0', '0', '0', '0', '0', '0', '0', '0', '0', '0', '0', '0', '0', '0', '0', '0', '0', '0', '0', '0', '0', '0', '0', '0', '0', '0', '0', '0', '0', '0', '0', '0', '0', '0', '0', '0', '0', '0', '0', '0', '0', '0', '0', '0', '0', '0', '0', '0', '0', '0', '0', '0', '0', '0', '0', '0', '0', '84', '185', '159', '151', '60', '36', '0', '0', '0', '0', '0', '0', '0', '0', '0', '0', '0', '0', '0', '0', '0', '0', '0', '0', '0', '0', '0', '0', '222', '254', '254', '254', '254', '241', '198', '198', '198', '198', '198', '198', '198', '198', '170', '52', '0', '0', '0', '0', '0', '0', '0', '0', '0', '0', '0', '0', '67', '114', '72', '114', '163', '227', '254', '225', '254', '254', '254', '250', '229', '254', '254', '140', '0', '0', '0', '0', '0', '0', '0', '0', '0', '0', '0', '0', '0', '0', '0', '0', '0', '17', '66', '14', '67', '67', '67', '59', '21', '236', '254', '106', '0', '0', '0', '0', '0', '0', '0', '0', '0', '0', '0', '0', '0', '0', '0', '0', '0', '0', '0', '0', '0', '0', '0', '0', '83', '253', '209', '18', '0', '0', '0', '0', '0', '0', '0', '0', '0', '0', '0', '0', '0', '0', '0', '0', '0', '0', '0', '0', '0', '0', '0', '22', '233', '255', '83', '0', '0', '0', '0', '0', '0', '0', '0', '0', '0', '0', '0', '0', '0', '0', '0', '0', '0', '0', '0', '0', '0', '0', '0', '129', '254', '238', '44', '0', '0', '0', '0', '0', '0', '0', '0', '0', '0', '0', '0', '0', '0', '0', '0', '0', '0', '0', '0', '0', '0', '0', '59', '249', '254', '62', '0', '0', '0', '0', '0', '0', '0', '0', '0', '0', '0', '0', '0', '0', '0', '0', '0', '0', '0', '0', '0', '0', '0', '0', '133', '254', '187', '5', '0', '0', '0', '0', '0', '0', '0', '0', '0', '0', '0', '0', '0', '0', '0', '0', '0', '0', '0', '0', '0', '0', '0', '9', '205', '248', '58', '0', '0', '0', '0', '0', '0', '0', '0', '0', '0', '0', '0', '0', '0', '0', '0', '0', '0', '0', '0', '0', '0', '0', '0', '126', '254', '182', '0', '0', '0', '0', '0', '0', '0', '0', '0', '0', '0', '0', '0', '0', '0', '0', '0', '0', '0', '0', '0', '0', '0', '0', '75', '251', '240', '57', '0', '0', '0', '0', '0', '0', '0', '0', '0', '0', '0', '0', '0', '0', '0', '0', '0', '0', '0', '0', '0', '0', '0', '19', '221', '254', '166', '0', '0', '0', '0', '0', '0', '0', '0', '0', '0', '0', '0', '0', '0', '0', '0', '0', '0', '0', '0', '0', '0', '0', '3', '203', '254', '219', '35', '0', '0', '0', '0', '0', '0', '0', '0', '0', '0', '0', '0', '0', '0', '0', '0', '0', '0', '0', '0', '0', '0', '0', '38', '254', '254', '77', '0', '0', '0', '0', '0', '0', '0', '0', '0', '0', '0', '0', '0', '0', '0', '0', '0', '0', '0', '0', '0', '0', '0', '31', '224', '254', '115', '1', '0', '0', '0', '0', '0', '0', '0', '0', '0', '0', '0', '0', '0', '0', '0', '0', '0', '0', '0', '0', '0', '0', '0', '133', '254', '254', '52', '0', '0', '0', '0', '0', '0', '0', '0', '0', '0', '0', '0', '0', '0', '0', '0', '0', '0', '0', '0', '0', '0', '0', '61', '242', '254', '254', '52', '0', '0', '0', '0', '0', '0', '0', '0', '0', '0', '0', '0', '0', '0', '0', '0', '0', '0', '0', '0', '0', '0', '0', '121', '254', '254', '219', '40', '0', '0', '0', '0', '0', '0', '0', '0', '0', '0', '0', '0', '0', '0', '0', '0', '0', '0', '0', '0', '0', '0', '0', '121', '254', '207', '18', '0', '0', '0', '0', '0', '0', '0', '0', '0', '0', '0', '0', '0', '0', '0', '0', '0', '0', '0', '0', '0', '0', '0', '0', '0', '0', '0', '0', '0', '0', '0', '0', '0', '0', '0', '0', '0', '0', '0', '0', '0', '0\\n']\n"
     ]
    }
   ],
   "source": [
    "# 첫번째 테스트 데이터 불러오기\n",
    "all_values = test_data_list[0].split(',')\n",
    "print(all_values)"
   ]
  },
  {
   "cell_type": "code",
   "execution_count": 17,
   "metadata": {
    "collapsed": false
   },
   "outputs": [
    {
     "name": "stdout",
     "output_type": "stream",
     "text": [
      "7\n"
     ]
    }
   ],
   "source": [
    "# 첫번째 테스트 데이터의 라벨만 보기\n",
    "print(all_values[0])"
   ]
  },
  {
   "cell_type": "code",
   "execution_count": 18,
   "metadata": {
    "collapsed": false
   },
   "outputs": [
    {
     "data": {
      "text/plain": [
       "<matplotlib.image.AxesImage at 0x1187eb550>"
      ]
     },
     "execution_count": 18,
     "metadata": {},
     "output_type": "execute_result"
    },
    {
     "data": {
      "image/png": "[encoded data removed]",
      "text/plain": [
       "<matplotlib.figure.Figure at 0x1182d7080>"
      ]
     },
     "metadata": {},
     "output_type": "display_data"
    }
   ],
   "source": [
    "image_array = np.asfarray(all_values[1:]).reshape((28,28))\n",
    "matplotlib.pyplot.imshow(image_array, cmap='Greys', interpolation='None')"
   ]
  },
  {
   "cell_type": "code",
   "execution_count": 19,
   "metadata": {
    "collapsed": false
   },
   "outputs": [
    {
     "data": {
      "text/plain": [
       "array([[ 0.04092069],\n",
       "       [ 0.01481431],\n",
       "       [ 0.05674127],\n",
       "       [ 0.0553971 ],\n",
       "       [ 0.05172703],\n",
       "       [ 0.01225153],\n",
       "       [ 0.00219535],\n",
       "       [ 0.89449118],\n",
       "       [ 0.01609004],\n",
       "       [ 0.01241407]])"
      ]
     },
     "execution_count": 19,
     "metadata": {},
     "output_type": "execute_result"
    }
   ],
   "source": [
    "n.query((np.asfarray(all_values[1:])/255.0 * 0.99) + 0.01)"
   ]
  },
  {
   "cell_type": "code",
   "execution_count": 20,
   "metadata": {
    "collapsed": false
   },
   "outputs": [],
   "source": [
    "# 신경망 테스트\n",
    "\n",
    "# 신경망의 성능의 지표가 되는 성적표를 아무 값도 가지지 않도록 초기화\n",
    "scorecard = []\n",
    "\n",
    "# 테스트 데이터 모음 내의 모든 레코드 탑색\n",
    "\n",
    "for record in test_data_list:\n",
    "    # 레코드를 쉼표에 의해 분리\n",
    "    all_values = record.split(',')\n",
    "    # 정답은 첫 번째 값\n",
    "    correct_label = int(all_values[0])\n",
    "    # print(\"correct lable\", correct_label)\n",
    "    # 입력 값의 범위와 값 조정\n",
    "    inputs = (np.asfarray(all_values[1:])/255.0 * 0.99) + 0.01\n",
    "    # 신경망에 질의\n",
    "    outputs = n.query(inputs)\n",
    "    # 가장 높은 값의 인덱스는 레이블의 인덱스와 일치\n",
    "    label = np.argmax(outputs)\n",
    "    # print(\"network's answer :\", label)\n",
    "    # 정답 또는 오답을 리스트에 추가\n",
    "    if (label == correct_label):\n",
    "        # 정답인 경우 성적표에 1을 넣음\n",
    "        scorecard.append(1)\n",
    "    else:\n",
    "        # 정답이 아닌 경우 성적표에 0을 넣음\n",
    "        scorecard.append(0)\n",
    "        pass\n",
    "    pass"
   ]
  },
  {
   "cell_type": "code",
   "execution_count": 21,
   "metadata": {
    "collapsed": false
   },
   "outputs": [
    {
     "name": "stdout",
     "output_type": "stream",
     "text": [
      "performace =  0.6\n"
     ]
    }
   ],
   "source": [
    "# 정답의 비율인 성적을 계산해 출력\n",
    "scorecard_array = np.asarray(scorecard)\n",
    "print(\"performace = \", scorecard_array.sum() / scorecard_array.size )"
   ]
  },
  {
   "cell_type": "code",
   "execution_count": 22,
   "metadata": {
    "collapsed": true
   },
   "outputs": [],
   "source": [
    "# MNIST 학습 데이터인 csv 파일을 리스트로 불러오기\n",
    "training_data_file = open('./mnist_train.csv','r')\n",
    "training_data_list = training_data_file.readlines()\n",
    "training_data_file.close()"
   ]
  },
  {
   "cell_type": "code",
   "execution_count": 23,
   "metadata": {
    "collapsed": true
   },
   "outputs": [],
   "source": [
    "# 신경망 학습시키기\n",
    "\n",
    "# 주기(epoch)란 학습 데이터가 학습을 위해 사용되는 횟수를 의미\n",
    "epochs = 2\n",
    "\n",
    "for e in range(epochs): \n",
    "    # 학습 데이터 모음 내의 모든 레코드 탐색\n",
    "    for record in training_data_list:\n",
    "        # 레코드를 쉼표에 의해 분리\n",
    "        all_values = record.split(',')\n",
    "        # 입력 값의 범위와 값 조정\n",
    "        inputs = (np.asfarray(all_values[1:])/ 255.0 * 0.99) + 0.01\n",
    "        # 결과값 생성 (실제 값인 0.99 외에는 모두 0.01)\n",
    "        targets = np.zeros(output_nodes) + 0.01\n",
    "        # all_values[0]은 이 레코드에 대한 결과값\n",
    "        targets[int(all_values[0])] = 0.99\n",
    "        n.train(inputs, targets)\n",
    "        pass\n",
    "    pass"
   ]
  },
  {
   "cell_type": "code",
   "execution_count": 24,
   "metadata": {
    "collapsed": true
   },
   "outputs": [],
   "source": [
    "# 테스트 데이터 불러오기\n",
    "test_data_file = open('./mnist_test.csv','r')\n",
    "test_data_list = test_data_file.readlines()\n",
    "test_data_file.close()"
   ]
  },
  {
   "cell_type": "code",
   "execution_count": 25,
   "metadata": {
    "collapsed": false
   },
   "outputs": [],
   "source": [
    "# 신경망 테스트\n",
    "\n",
    "# 신경망의 성능의 지표가 되는 성적표를 아무 값도 가지지 않도록 초기화\n",
    "scorecard = []\n",
    "\n",
    "# 테스트 데이터 모음 내의 모든 레코드 탑색\n",
    "\n",
    "for record in test_data_list:\n",
    "    # 레코드를 쉼표에 의해 분리\n",
    "    all_values = record.split(',')\n",
    "    # 정답은 첫 번째 값\n",
    "    correct_label = int(all_values[0])\n",
    "    # print(\"correct lable\", correct_label)\n",
    "    # 입력 값의 범위와 값 조정\n",
    "    inputs = (np.asfarray(all_values[1:])/255.0 * 0.99) + 0.01\n",
    "    # 신경망에 질의\n",
    "    outputs = n.query(inputs)\n",
    "    # 가장 높은 값의 인덱스는 레이블의 인덱스와 일치\n",
    "    label = np.argmax(outputs)\n",
    "    # print(\"network's answer :\", label)\n",
    "    # 정답 또는 오답을 리스트에 추가\n",
    "    if (label == correct_label):\n",
    "        # 정답인 경우 성적표에 1을 넣음\n",
    "        scorecard.append(1)\n",
    "    else:\n",
    "        # 정답이 아닌 경우 성적표에 0을 넣음\n",
    "        scorecard.append(0)\n",
    "        pass\n",
    "    pass"
   ]
  },
  {
   "cell_type": "code",
   "execution_count": 26,
   "metadata": {
    "collapsed": false
   },
   "outputs": [
    {
     "name": "stdout",
     "output_type": "stream",
     "text": [
      "performace =  0.9511\n"
     ]
    }
   ],
   "source": [
    "# 정답의 비율인 성적을 계산해 출력\n",
    "scorecard_array = np.asarray(scorecard)\n",
    "print(\"performace = \", scorecard_array.sum() / scorecard_array.size )"
   ]
  }
 ],
 "metadata": {
  "kernelspec": {
   "display_name": "Python 3",
   "language": "python",
   "name": "python3"
  },
  "language_info": {
   "codemirror_mode": {
    "name": "ipython",
    "version": 3
   },
   "file_extension": ".py",
   "mimetype": "text/x-python",
   "name": "python",
   "nbconvert_exporter": "python",
   "pygments_lexer": "ipython3",
   "version": "3.6.0"
  }
 },
 "nbformat": 4,
 "nbformat_minor": 2
}
