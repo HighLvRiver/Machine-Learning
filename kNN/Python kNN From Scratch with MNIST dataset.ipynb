{
 "cells": [
  {
   "cell_type": "markdown",
   "metadata": {
    "collapsed": true
   },
   "source": [
    "## kNN From Scratch With MNST dataset Using Python"
   ]
  },
  {
   "cell_type": "markdown",
   "metadata": {},
   "source": [
    "신경망(Neural Network) 알고리즘을 구현해보기에 앞서, 지도학습(supervised learning)에서 활용되는 가장 단순한 종류의 알고리즘인 kNN을 이해하고 구현해보도록 하겠습니다.\n",
    "\n",
    "kNN은 k-Nearest Neighbors의 약자이며, 쉽게 설명하면 테스트 데이터가 들어올 경우, 전체 학습 데이터와 신규 테스트 데이터 간의 거리를 구한 뒤, 그 거리가 가까운(인접한) k개의 학습 데이터를 가져와 가장 많이 존재하는 값을 테스트 데이터의 값으로 예측하는 방식을 의미합니다.\n",
    "\n",
    "- 참고 : http://blog.naver.com/samsjang/220673340574 "
   ]
  },
  {
   "cell_type": "markdown",
   "metadata": {},
   "source": [
    "![kNN_img](./img/kNN.png)"
   ]
  },
  {
   "cell_type": "markdown",
   "metadata": {},
   "source": [
    "이 때 거리를 구하는 방식이 여러 가지가 있을 수 있는데, 일반적으로는 유클리디안 거리를 사용합니다.\n",
    "\n",
    "![distance_img](./img/euclidean_distance.png)\n",
    "\n",
    "위 그림에서 보는 바와 같이 유클리디안 거리는 좌표계에 두 점이 있을 때 두 지점의 최단거리(엄밀하게 말하면 유클리디안 좌표계에서 최단거리)를 의미합니다."
   ]
  },
  {
   "cell_type": "markdown",
   "metadata": {},
   "source": [
    "실습에 사용할 데이터는 손글씨 데이터(일명 MNIST)이며, 자료는 다음 경로에서 받으실 수 있습니다.\n",
    "\n",
    "- Sample Dataset <-- 이 주피터노트북에서는 샘플 데이터셋으로 학습 및 테스트를 진행합니다.\n",
    "\n",
<<<<<<< HEAD
    "    - Test Dataset (n=10)\n",
    "        - https://github.com/makeyourownneuralnetwork/makeyourownneuralnetwork/blob/master/mnist_dataset/mnist_test_10.csv\n",
    "\n",
    "    - Train Dataset (n=100)\n",
    "        - https://github.com/makeyourownneuralnetwork/makeyourownneuralnetwork/blob/master/mnist_dataset/mnist_train_100.csv\n",
=======
    "    - Test Dataset (n=10) :\n",
    "    https://github.com/makeyourownneuralnetwork/makeyourownneuralnetwork/blob/master/mnist_dataset/mnist_test_10.csv\n",
    "\n",
    "    - Train Dataset (n=100) :\n",
    "    https://github.com/makeyourownneuralnetwork/makeyourownneuralnetwork/blob/master/mnist_dataset/mnist_train_100.csv\n",
>>>>>>> origin/master
    "    \n",
    "    \n",
    "- Full Dataset\n",
    "\n",
    "    - Test Dataset : https://pjreddie.com/media/files/mnist_train.csv\n",
    "    - Train Dataset : https://pjreddie.com/media/files/mnist_test.csv"
   ]
  },
  {
   "cell_type": "markdown",
   "metadata": {},
   "source": [
    "그럼 실제로 kNN 알고리즘을 구현해보도록 하겠습니다."
   ]
  },
  {
   "cell_type": "code",
   "execution_count": 1,
   "metadata": {
    "collapsed": true
   },
   "outputs": [],
   "source": [
    "# 먼저 pandas library 의 read_csv를 사용하여 csv 형식의 test data set 과 train data set 을 불러옵니다.\n",
    "\n",
    "import pandas as pd"
   ]
  },
  {
   "cell_type": "code",
   "execution_count": 2,
   "metadata": {
    "collapsed": true
   },
   "outputs": [],
   "source": [
    "# 손글씨 데이터는 mnist_train.csv 와 mnist_test.csv 로 이루어져 있습니다.\n",
    "# Github에 jupyter notebook을 올려 공유하기 위해 용량이 작은 샘플 데이터로 진행하겠습니다.\n",
    "# 참고로 저의 경우, 로컬에서는 Full Data 에서 샘플링하여 진행했습니다.\n",
    "\n",
    "with open(\"./mnist_train_100.csv\",\"r\") as csvfile:\n",
    "    train_data = pd.read_csv(csvfile, header=None)    \n",
    "\n",
    "with open(\"./mnist_test_10.csv\",\"r\") as csvfile:\n",
    "    test_data = pd.read_csv(csvfile, header=None)"
   ]
  },
  {
   "cell_type": "code",
   "execution_count": 3,
   "metadata": {},
   "outputs": [
    {
     "name": "stdout",
     "output_type": "stream",
     "text": [
      "<class 'pandas.core.frame.DataFrame'>\n",
      "RangeIndex: 100 entries, 0 to 99\n",
      "Columns: 785 entries, 0 to 784\n",
      "dtypes: int64(785)\n",
      "memory usage: 613.4 KB\n",
      "<class 'pandas.core.frame.DataFrame'>\n",
      "RangeIndex: 10 entries, 0 to 9\n",
      "Columns: 785 entries, 0 to 784\n",
      "dtypes: int64(785)\n",
      "memory usage: 61.4 KB\n"
     ]
    }
   ],
   "source": [
    "# 불러온 데이터를 살펴보겠습니다.\n",
    "\n",
    "train_data.info()\n",
    "test_data.info()"
   ]
  },
  {
   "cell_type": "code",
   "execution_count": 4,
   "metadata": {},
   "outputs": [
    {
     "data": {
      "text/html": [
       "<div>\n",
       "<style>\n",
       "    .dataframe thead tr:only-child th {\n",
       "        text-align: right;\n",
       "    }\n",
       "\n",
       "    .dataframe thead th {\n",
       "        text-align: left;\n",
       "    }\n",
       "\n",
       "    .dataframe tbody tr th {\n",
       "        vertical-align: top;\n",
       "    }\n",
       "</style>\n",
       "<table border=\"1\" class=\"dataframe\">\n",
       "  <thead>\n",
       "    <tr style=\"text-align: right;\">\n",
       "      <th></th>\n",
       "      <th>0</th>\n",
       "      <th>1</th>\n",
       "      <th>2</th>\n",
       "      <th>3</th>\n",
       "      <th>4</th>\n",
       "      <th>5</th>\n",
       "      <th>6</th>\n",
       "      <th>7</th>\n",
       "      <th>8</th>\n",
       "      <th>9</th>\n",
       "      <th>...</th>\n",
       "      <th>775</th>\n",
       "      <th>776</th>\n",
       "      <th>777</th>\n",
       "      <th>778</th>\n",
       "      <th>779</th>\n",
       "      <th>780</th>\n",
       "      <th>781</th>\n",
       "      <th>782</th>\n",
       "      <th>783</th>\n",
       "      <th>784</th>\n",
       "    </tr>\n",
       "  </thead>\n",
       "  <tbody>\n",
       "    <tr>\n",
       "      <th>0</th>\n",
       "      <td>5</td>\n",
       "      <td>0</td>\n",
       "      <td>0</td>\n",
       "      <td>0</td>\n",
       "      <td>0</td>\n",
       "      <td>0</td>\n",
       "      <td>0</td>\n",
       "      <td>0</td>\n",
       "      <td>0</td>\n",
       "      <td>0</td>\n",
       "      <td>...</td>\n",
       "      <td>0</td>\n",
       "      <td>0</td>\n",
       "      <td>0</td>\n",
       "      <td>0</td>\n",
       "      <td>0</td>\n",
       "      <td>0</td>\n",
       "      <td>0</td>\n",
       "      <td>0</td>\n",
       "      <td>0</td>\n",
       "      <td>0</td>\n",
       "    </tr>\n",
       "    <tr>\n",
       "      <th>1</th>\n",
       "      <td>0</td>\n",
       "      <td>0</td>\n",
       "      <td>0</td>\n",
       "      <td>0</td>\n",
       "      <td>0</td>\n",
       "      <td>0</td>\n",
       "      <td>0</td>\n",
       "      <td>0</td>\n",
       "      <td>0</td>\n",
       "      <td>0</td>\n",
       "      <td>...</td>\n",
       "      <td>0</td>\n",
       "      <td>0</td>\n",
       "      <td>0</td>\n",
       "      <td>0</td>\n",
       "      <td>0</td>\n",
       "      <td>0</td>\n",
       "      <td>0</td>\n",
       "      <td>0</td>\n",
       "      <td>0</td>\n",
       "      <td>0</td>\n",
       "    </tr>\n",
       "    <tr>\n",
       "      <th>2</th>\n",
       "      <td>4</td>\n",
       "      <td>0</td>\n",
       "      <td>0</td>\n",
       "      <td>0</td>\n",
       "      <td>0</td>\n",
       "      <td>0</td>\n",
       "      <td>0</td>\n",
       "      <td>0</td>\n",
       "      <td>0</td>\n",
       "      <td>0</td>\n",
       "      <td>...</td>\n",
       "      <td>0</td>\n",
       "      <td>0</td>\n",
       "      <td>0</td>\n",
       "      <td>0</td>\n",
       "      <td>0</td>\n",
       "      <td>0</td>\n",
       "      <td>0</td>\n",
       "      <td>0</td>\n",
       "      <td>0</td>\n",
       "      <td>0</td>\n",
       "    </tr>\n",
       "  </tbody>\n",
       "</table>\n",
       "<p>3 rows × 785 columns</p>\n",
       "</div>"
      ],
      "text/plain": [
       "   0    1    2    3    4    5    6    7    8    9   ...   775  776  777  778  \\\n",
       "0    5    0    0    0    0    0    0    0    0    0 ...     0    0    0    0   \n",
       "1    0    0    0    0    0    0    0    0    0    0 ...     0    0    0    0   \n",
       "2    4    0    0    0    0    0    0    0    0    0 ...     0    0    0    0   \n",
       "\n",
       "   779  780  781  782  783  784  \n",
       "0    0    0    0    0    0    0  \n",
       "1    0    0    0    0    0    0  \n",
       "2    0    0    0    0    0    0  \n",
       "\n",
       "[3 rows x 785 columns]"
      ]
     },
     "execution_count": 4,
     "metadata": {},
     "output_type": "execute_result"
    }
   ],
   "source": [
    "# 학습데이터는 총 100개, 테스트데이터는 총 10개로 이루어져 있으며, 컬럼은 총 785개입니다.\n",
    "\n",
    "train_data.iloc[:3,:]"
   ]
  },
  {
   "cell_type": "code",
   "execution_count": 5,
   "metadata": {},
   "outputs": [
    {
     "data": {
      "text/html": [
       "<div>\n",
       "<style>\n",
       "    .dataframe thead tr:only-child th {\n",
       "        text-align: right;\n",
       "    }\n",
       "\n",
       "    .dataframe thead th {\n",
       "        text-align: left;\n",
       "    }\n",
       "\n",
       "    .dataframe tbody tr th {\n",
       "        vertical-align: top;\n",
       "    }\n",
       "</style>\n",
       "<table border=\"1\" class=\"dataframe\">\n",
       "  <thead>\n",
       "    <tr style=\"text-align: right;\">\n",
       "      <th></th>\n",
       "      <th>0</th>\n",
       "      <th>1</th>\n",
       "      <th>2</th>\n",
       "      <th>3</th>\n",
       "      <th>4</th>\n",
       "      <th>5</th>\n",
       "      <th>6</th>\n",
       "      <th>7</th>\n",
       "      <th>8</th>\n",
       "      <th>9</th>\n",
       "      <th>...</th>\n",
       "      <th>775</th>\n",
       "      <th>776</th>\n",
       "      <th>777</th>\n",
       "      <th>778</th>\n",
       "      <th>779</th>\n",
       "      <th>780</th>\n",
       "      <th>781</th>\n",
       "      <th>782</th>\n",
       "      <th>783</th>\n",
       "      <th>784</th>\n",
       "    </tr>\n",
       "  </thead>\n",
       "  <tbody>\n",
       "    <tr>\n",
       "      <th>0</th>\n",
       "      <td>7</td>\n",
       "      <td>0</td>\n",
       "      <td>0</td>\n",
       "      <td>0</td>\n",
       "      <td>0</td>\n",
       "      <td>0</td>\n",
       "      <td>0</td>\n",
       "      <td>0</td>\n",
       "      <td>0</td>\n",
       "      <td>0</td>\n",
       "      <td>...</td>\n",
       "      <td>0</td>\n",
       "      <td>0</td>\n",
       "      <td>0</td>\n",
       "      <td>0</td>\n",
       "      <td>0</td>\n",
       "      <td>0</td>\n",
       "      <td>0</td>\n",
       "      <td>0</td>\n",
       "      <td>0</td>\n",
       "      <td>0</td>\n",
       "    </tr>\n",
       "    <tr>\n",
       "      <th>1</th>\n",
       "      <td>2</td>\n",
       "      <td>0</td>\n",
       "      <td>0</td>\n",
       "      <td>0</td>\n",
       "      <td>0</td>\n",
       "      <td>0</td>\n",
       "      <td>0</td>\n",
       "      <td>0</td>\n",
       "      <td>0</td>\n",
       "      <td>0</td>\n",
       "      <td>...</td>\n",
       "      <td>0</td>\n",
       "      <td>0</td>\n",
       "      <td>0</td>\n",
       "      <td>0</td>\n",
       "      <td>0</td>\n",
       "      <td>0</td>\n",
       "      <td>0</td>\n",
       "      <td>0</td>\n",
       "      <td>0</td>\n",
       "      <td>0</td>\n",
       "    </tr>\n",
       "    <tr>\n",
       "      <th>2</th>\n",
       "      <td>1</td>\n",
       "      <td>0</td>\n",
       "      <td>0</td>\n",
       "      <td>0</td>\n",
       "      <td>0</td>\n",
       "      <td>0</td>\n",
       "      <td>0</td>\n",
       "      <td>0</td>\n",
       "      <td>0</td>\n",
       "      <td>0</td>\n",
       "      <td>...</td>\n",
       "      <td>0</td>\n",
       "      <td>0</td>\n",
       "      <td>0</td>\n",
       "      <td>0</td>\n",
       "      <td>0</td>\n",
       "      <td>0</td>\n",
       "      <td>0</td>\n",
       "      <td>0</td>\n",
       "      <td>0</td>\n",
       "      <td>0</td>\n",
       "    </tr>\n",
       "  </tbody>\n",
       "</table>\n",
       "<p>3 rows × 785 columns</p>\n",
       "</div>"
      ],
      "text/plain": [
       "   0    1    2    3    4    5    6    7    8    9   ...   775  776  777  778  \\\n",
       "0    7    0    0    0    0    0    0    0    0    0 ...     0    0    0    0   \n",
       "1    2    0    0    0    0    0    0    0    0    0 ...     0    0    0    0   \n",
       "2    1    0    0    0    0    0    0    0    0    0 ...     0    0    0    0   \n",
       "\n",
       "   779  780  781  782  783  784  \n",
       "0    0    0    0    0    0    0  \n",
       "1    0    0    0    0    0    0  \n",
       "2    0    0    0    0    0    0  \n",
       "\n",
       "[3 rows x 785 columns]"
      ]
     },
     "execution_count": 5,
     "metadata": {},
     "output_type": "execute_result"
    }
   ],
   "source": [
    "test_data.iloc[:3,:]\n",
    "\n",
    "# 학습데이터와 테스트테이터 모두 첫번째 컬럼은 라벨이고 두번째 컬럼 부터 785번째 컬럼까지가 변수로 이루어져 있는 걸 확인할 수 있습니다."
   ]
  },
  {
   "cell_type": "code",
   "execution_count": 6,
   "metadata": {
    "collapsed": true
   },
   "outputs": [],
   "source": [
    "# 분석상 용이를 위해 각 데이터셋에서 첫번째 컬럼은 라벨로 두번째 컬럼부터는 변수 데이터로 분리해 저장합니다.\n",
    "\n",
    "test_labels = test_data.iloc[:,0]\n",
    "test_data = test_data.iloc[:,1:]\n",
    "train_labels = train_data.iloc[:,0]\n",
    "train_data = train_data.iloc[:,1:]"
   ]
  },
  {
   "cell_type": "code",
   "execution_count": 7,
   "metadata": {
    "collapsed": true
   },
   "outputs": [],
   "source": [
    "# 모델링 이후 정확도를 측정하기 위해 사용할 변수값들도 미리 선언해두도록 하겠습니다.\n",
    "\n",
    "accu_k = []\n",
    "accu_rate = []\n",
    "accuracy = []\n",
    "accuracy = pd.DataFrame(accuracy)"
   ]
  },
  {
   "cell_type": "code",
   "execution_count": 8,
   "metadata": {
    "collapsed": true
   },
   "outputs": [],
   "source": [
    "# 본격적으로, KNN 알고리즘을 직접 구현해보도록 하겠습니다.\n",
    "# (기본적인 알고리즘 구현이 목적으로 정규화와 크로스 벨리데이션 등의 작업은 생략합니다.)\n",
    "\n",
    "# 모델 재사용의 용이성 확보를 위해 함수로 만들도록 하겠습니다. \n",
    "# KNN 모델링을 위해, 학습데이터셋, 테스트데이터셋, 학습데이터라벨, 테스트데이터라벨 그리고 K값을 변수로 입력받습니다.\n",
    "\n",
    "def knn(train_data, test_data, train_labels, test_labels, k):\n",
    "\n",
    "    est_labels = [] # 예측한 값들을 최종적으로 저장하기 위한 변수 입니다. \n",
    "\n",
    "    accuracy = [] # 모델의 예측 정확도를 저장하기 위한 변수 입니다.\n",
    "    accuracy = pd.DataFrame(accuracy)    \n",
    "    \n",
    "    for i in range(len(test_data)):    \n",
    "        x = []\n",
    "        dist = []\n",
    "    \n",
    "        # 각종 필요한 변수들을 미리 선언해둡니다.\n",
    "        dist_label = [] # 테스트 데이터와 학습 데이터 간의 거리를 저장하기 위한 변수입니다.\n",
    "        dist_label = pd.DataFrame(dist_label) \n",
    "\n",
    "        top_knn = [] # 인근 값 중 제일 빈번하게 나온 값을 저장하기 위한 변수입니다.\n",
    "        est_label = [] # 각 테스트 데이터별로 예측한 값을 임시로 저장해두기 위한 변수입니다.\n",
    "\n",
    "        # 각 테스트 데이터별로 KNN 알고리즘으로 라벨을 예측합니다.\n",
    "        for j in range(len(train_data)):\n",
    "            x = ((test_data.iloc[i,:] - train_data.iloc[j,:] ) ** 2).sum() ** 0.5\n",
    "            dist.append(x) # 테스트데이터와 학습데이터 간 유클리디안 거리를 구하여 dist 변수에 추가합니다.\n",
    "            \n",
    "        dist_label[\"dist\"] = dist\n",
    "        dist_label[\"label\"] = train_labels\n",
    "            \n",
    "        dist_label.sort_values(['dist'], inplace=True) # 거리를 기준으로 오름차순 정렬합니다.\n",
    "            \n",
    "        top_knn = dist_label[:k]['label'] # 각 테스트 데이터로부터 거리가 제일 가까운 k개의 학습 데이터를 찾습니다. \n",
    "        est_label = top_knn.value_counts().index[0] # k개의 학습 데이터 중 가장 빈도가 많은 라벨을 구합니다.\n",
    "        est_labels.append(est_label) # 각 테스트 데이터로부터 구한 label을 est_labels 변수에 추가합니다.\n",
    "    \n",
    "    test_est = []\n",
    "    test_est = pd.DataFrame(test_est)\n",
    "    test_est[\"test_labels\"] = test_labels\n",
    "    test_est[\"estimated_labels\"] = est_labels # 정확도 비교를 용이하게 하기 위해 테스트 데이터의 실제 라벨과 예측한 라벨을 하나의 데이터프레임에 저장합니다. \n",
    "        \n",
    "    correct = 0\n",
    "    for p in range(len(test_est)):\n",
    "        if test_est[\"test_labels\"][p] == test_est[\"estimated_labels\"][p]:\n",
    "            correct += 1 # 실제 라벨과 예측 라벨이 같은 것의 갯수를 셉니다. \n",
    "    accuracy = (correct/float(len(test_est))) * 100.0 # 맞춘 갯수를 전체 갯수로 나누어 정확도를 구합니다. \n",
    "    print(\"k=%d, accuracy=%.2f%%\" % (k, accuracy))\n",
    "   \n",
    "    return test_est, accuracy"
   ]
  },
  {
   "cell_type": "code",
   "execution_count": 9,
   "metadata": {},
   "outputs": [
    {
     "name": "stdout",
     "output_type": "stream",
     "text": [
      "k=3, accuracy=60.00%\n"
     ]
    }
   ],
   "source": [
    "# 작성한 knn 알고리즘으로 테스트 데이터의 라벨을 예측해보겠습니다.\n",
    "# k는 임의로 3을 지정하여 보도록 하겠습니다. \n",
    "\n",
    "test_est, accuracy = knn(train_data, test_data, train_labels, test_labels, k=3)"
   ]
  },
  {
   "cell_type": "code",
   "execution_count": 10,
   "metadata": {},
   "outputs": [
    {
     "data": {
      "text/html": [
       "<div>\n",
       "<style>\n",
       "    .dataframe thead tr:only-child th {\n",
       "        text-align: right;\n",
       "    }\n",
       "\n",
       "    .dataframe thead th {\n",
       "        text-align: left;\n",
       "    }\n",
       "\n",
       "    .dataframe tbody tr th {\n",
       "        vertical-align: top;\n",
       "    }\n",
       "</style>\n",
       "<table border=\"1\" class=\"dataframe\">\n",
       "  <thead>\n",
       "    <tr style=\"text-align: right;\">\n",
       "      <th></th>\n",
       "      <th>test_labels</th>\n",
       "      <th>estimated_labels</th>\n",
       "    </tr>\n",
       "  </thead>\n",
       "  <tbody>\n",
       "    <tr>\n",
       "      <th>0</th>\n",
       "      <td>7</td>\n",
       "      <td>7</td>\n",
       "    </tr>\n",
       "    <tr>\n",
       "      <th>1</th>\n",
       "      <td>2</td>\n",
       "      <td>3</td>\n",
       "    </tr>\n",
       "    <tr>\n",
       "      <th>2</th>\n",
       "      <td>1</td>\n",
       "      <td>1</td>\n",
       "    </tr>\n",
       "    <tr>\n",
       "      <th>3</th>\n",
       "      <td>0</td>\n",
       "      <td>0</td>\n",
       "    </tr>\n",
       "    <tr>\n",
       "      <th>4</th>\n",
       "      <td>4</td>\n",
       "      <td>4</td>\n",
       "    </tr>\n",
       "    <tr>\n",
       "      <th>5</th>\n",
       "      <td>1</td>\n",
       "      <td>1</td>\n",
       "    </tr>\n",
       "    <tr>\n",
       "      <th>6</th>\n",
       "      <td>4</td>\n",
       "      <td>7</td>\n",
       "    </tr>\n",
       "    <tr>\n",
       "      <th>7</th>\n",
       "      <td>9</td>\n",
       "      <td>4</td>\n",
       "    </tr>\n",
       "    <tr>\n",
       "      <th>8</th>\n",
       "      <td>5</td>\n",
       "      <td>6</td>\n",
       "    </tr>\n",
       "    <tr>\n",
       "      <th>9</th>\n",
       "      <td>9</td>\n",
       "      <td>9</td>\n",
       "    </tr>\n",
       "  </tbody>\n",
       "</table>\n",
       "</div>"
      ],
      "text/plain": [
       "   test_labels  estimated_labels\n",
       "0            7                 7\n",
       "1            2                 3\n",
       "2            1                 1\n",
       "3            0                 0\n",
       "4            4                 4\n",
       "5            1                 1\n",
       "6            4                 7\n",
       "7            9                 4\n",
       "8            5                 6\n",
       "9            9                 9"
      ]
     },
     "execution_count": 10,
     "metadata": {},
     "output_type": "execute_result"
    }
   ],
   "source": [
    "#실제 라벨과 예측 라벨 값을 눈으로 확인해보겠습니다.\n",
    "\n",
    "test_est"
   ]
  },
  {
   "cell_type": "code",
   "execution_count": 11,
   "metadata": {},
   "outputs": [
    {
     "name": "stdout",
     "output_type": "stream",
     "text": [
      "k=1, accuracy=60.00%\n",
      "k=2, accuracy=50.00%\n",
      "k=3, accuracy=60.00%\n",
      "k=4, accuracy=60.00%\n",
      "k=5, accuracy=60.00%\n",
      "k=6, accuracy=60.00%\n",
      "k=7, accuracy=60.00%\n",
      "k=8, accuracy=60.00%\n",
      "k=9, accuracy=60.00%\n",
      "k=10, accuracy=70.00%\n",
      "k=11, accuracy=70.00%\n",
      "k=12, accuracy=70.00%\n",
      "k=13, accuracy=60.00%\n",
      "k=14, accuracy=60.00%\n",
      "k=15, accuracy=70.00%\n"
     ]
    }
   ],
   "source": [
    "# 이제 가장 정확도가 높게 나오는 k 를 찾아보도록 하겠습니다.\n",
    "\n",
    "for k in range(1, 16):  \n",
    "    test_est = knn(train_data, test_data, train_labels, test_labels, k)\n",
    "    \n",
    "    accu_k.append(k)\n",
    "    accu_rate.append(accuracy)"
   ]
  },
  {
   "cell_type": "markdown",
   "metadata": {},
   "source": [
    "이번에는 python library 중 **sikit-learn** 에 있는 **KNeighborsClassifier** 를 가지고 손쉽게 kNN 알고리즘 결과를 구해보도록 하겠습니다.\n",
    "\n",
    "- 참고 : http://scikit-learn.org/stable/modules/neighbors.html#nearest-neighbors-classification"
   ]
  },
  {
   "cell_type": "code",
<<<<<<< HEAD
   "execution_count": 14,
=======
   "execution_count": 12,
>>>>>>> origin/master
   "metadata": {},
   "outputs": [
    {
     "name": "stdout",
     "output_type": "stream",
     "text": [
<<<<<<< HEAD
      "k=5, accuracy=80.00%\n"
=======
      "k=10, accuracy=60.00%\n"
>>>>>>> origin/master
     ]
    }
   ],
   "source": [
    "from sklearn.neighbors import KNeighborsClassifier\n",
    "\n",
    "model = KNeighborsClassifier(n_neighbors=k, p=2, metric='minkowski')\n",
    "model.fit(train_data, train_labels)\n",
    "\n",
    "k = 5\n",
    "\n",
    "# evaluate the model and update the accuracies list\n",
    "score = model.score(test_data, test_labels)\n",
    "print(\"k=%d, accuracy=%.2f%%\" % (k, score * 100))\n",
    "predictions = model.predict(test_data)\n",
    "\n",
    "test_est = []\n",
    "test_est = pd.DataFrame(test_est)\n",
    "test_est[\"test_labels\"] = test_labels\n",
    "test_est[\"estimated_labels\"] = predictions"
   ]
  },
  {
   "cell_type": "code",
<<<<<<< HEAD
   "execution_count": 15,
=======
   "execution_count": 13,
>>>>>>> origin/master
   "metadata": {},
   "outputs": [
    {
     "data": {
      "text/html": [
       "<div>\n",
       "<style>\n",
       "    .dataframe thead tr:only-child th {\n",
       "        text-align: right;\n",
       "    }\n",
       "\n",
       "    .dataframe thead th {\n",
       "        text-align: left;\n",
       "    }\n",
       "\n",
       "    .dataframe tbody tr th {\n",
       "        vertical-align: top;\n",
       "    }\n",
       "</style>\n",
       "<table border=\"1\" class=\"dataframe\">\n",
       "  <thead>\n",
       "    <tr style=\"text-align: right;\">\n",
       "      <th></th>\n",
       "      <th>test_labels</th>\n",
       "      <th>estimated_labels</th>\n",
       "    </tr>\n",
       "  </thead>\n",
       "  <tbody>\n",
       "    <tr>\n",
       "      <th>0</th>\n",
       "      <td>7</td>\n",
       "      <td>7</td>\n",
       "    </tr>\n",
       "    <tr>\n",
       "      <th>1</th>\n",
       "      <td>2</td>\n",
       "      <td>1</td>\n",
       "    </tr>\n",
       "    <tr>\n",
       "      <th>2</th>\n",
       "      <td>1</td>\n",
       "      <td>1</td>\n",
       "    </tr>\n",
       "    <tr>\n",
       "      <th>3</th>\n",
       "      <td>0</td>\n",
       "      <td>0</td>\n",
       "    </tr>\n",
       "    <tr>\n",
       "      <th>4</th>\n",
       "      <td>4</td>\n",
       "      <td>4</td>\n",
       "    </tr>\n",
       "    <tr>\n",
       "      <th>5</th>\n",
       "      <td>1</td>\n",
       "      <td>1</td>\n",
       "    </tr>\n",
       "    <tr>\n",
       "      <th>6</th>\n",
       "      <td>4</td>\n",
       "      <td>9</td>\n",
       "    </tr>\n",
       "    <tr>\n",
       "      <th>7</th>\n",
       "      <td>9</td>\n",
<<<<<<< HEAD
       "      <td>4</td>\n",
=======
       "      <td>1</td>\n",
>>>>>>> origin/master
       "    </tr>\n",
       "    <tr>\n",
       "      <th>8</th>\n",
       "      <td>5</td>\n",
<<<<<<< HEAD
       "      <td>6</td>\n",
=======
       "      <td>1</td>\n",
>>>>>>> origin/master
       "    </tr>\n",
       "    <tr>\n",
       "      <th>9</th>\n",
       "      <td>9</td>\n",
       "      <td>9</td>\n",
       "    </tr>\n",
       "  </tbody>\n",
       "</table>\n",
       "</div>"
      ],
      "text/plain": [
       "   test_labels  estimated_labels\n",
       "0            7                 7\n",
       "1            2                 1\n",
       "2            1                 1\n",
       "3            0                 0\n",
       "4            4                 4\n",
       "5            1                 1\n",
<<<<<<< HEAD
       "6            4                 4\n",
       "7            9                 4\n",
       "8            5                 6\n",
       "9            9                 9"
      ]
     },
     "execution_count": 15,
=======
       "6            4                 9\n",
       "7            9                 1\n",
       "8            5                 1\n",
       "9            9                 9"
      ]
     },
     "execution_count": 13,
>>>>>>> origin/master
     "metadata": {},
     "output_type": "execute_result"
    }
   ],
   "source": [
    "test_est"
   ]
<<<<<<< HEAD
  },
  {
   "cell_type": "code",
   "execution_count": null,
   "metadata": {
    "collapsed": true
   },
   "outputs": [],
   "source": []
=======
>>>>>>> origin/master
  }
 ],
 "metadata": {
  "anaconda-cloud": {},
  "kernelspec": {
   "display_name": "Python 3",
   "language": "python",
   "name": "python3"
  },
  "language_info": {
   "codemirror_mode": {
    "name": "ipython",
    "version": 3
   },
   "file_extension": ".py",
   "mimetype": "text/x-python",
   "name": "python",
   "nbconvert_exporter": "python",
   "pygments_lexer": "ipython3",
   "version": "3.6.2"
  }
 },
 "nbformat": 4,
 "nbformat_minor": 1
}
